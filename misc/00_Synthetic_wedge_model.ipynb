{
 "cells": [
  {
   "cell_type": "markdown",
   "metadata": {},
   "source": [
    "### X lines of Python\n",
    "\n",
    "# Wedge model\n",
    "\n",
    "This is part of [an Agile blog series](http://ageo.co/xlines00) called **x lines of Python**.\n",
    "\n",
    "We start with the usual preliminaries."
   ]
  },
  {
   "cell_type": "code",
   "execution_count": 1,
   "metadata": {},
   "outputs": [],
   "source": [
    "import matplotlib.pyplot as plt\n",
    "import numpy as np\n",
    "%matplotlib inline"
   ]
  },
  {
   "cell_type": "markdown",
   "metadata": {},
   "source": [
    "## Make an earth model\n",
    "\n",
    "We'll start off with an earth model --- an array of 'cells', each of which has some rock properties.\n",
    "\n",
    "Line 1 sets up some basic variables, then in line 2 I've used a little matrix-forming trick, `np.tri(m, n, k)`, which creates an *m* &times; *n* matrix with ones below the *k*th diagonal, and zeros above it. The `dtype` specification just makes sure we end up with integers, which we need later for the indexing trick.\n",
    "\n",
    "Then line 3 just sets every row above `depth//3` (the `//` is integer division, because NumPy prefers integers for indexing arrays), to 0."
   ]
  },
  {
   "cell_type": "code",
   "execution_count": 2,
   "metadata": {},
   "outputs": [
    {
     "data": {
      "image/png": "[encoded data removed]",
      "text/plain": [
       "<Figure size 432x288 with 1 Axes>"
      ]
     },
     "metadata": {
      "needs_background": "light"
     },
     "output_type": "display_data"
    }
   ],
   "source": [
    "# length, depth = 40, 100\n",
    "# model = 1 + np.tri(depth, length, -depth//3, dtype=int)\n",
    "# model[:depth//3,:] = 0\n",
    "\n",
    "# plt.imshow(model, cmap='viridis', aspect=0.2)\n",
    "# plt.show()\n",
    "\n",
    "def symmetrize(a):\n",
    "    return a + a.T - numpy.diag(a.diagonal())\n",
    "\n",
    "depth, length = 150, 60\n",
    "model = 1 + np.tri(depth, length, -depth//5, dtype=int) + np.tri(depth, length, -depth//8, dtype=int)\n",
    "\n",
    "model[:depth//4,:] = 0\n",
    "\n",
    "plt.imshow(model, cmap='viridis', aspect=0.2)\n",
    "plt.show()"
   ]
  },
  {
   "cell_type": "code",
   "execution_count": null,
   "metadata": {},
   "outputs": [],
   "source": []
  },
  {
   "cell_type": "code",
   "execution_count": null,
   "metadata": {},
   "outputs": [],
   "source": []
  },
  {
   "cell_type": "code",
   "execution_count": null,
   "metadata": {},
   "outputs": [],
   "source": []
  },
  {
   "cell_type": "code",
   "execution_count": null,
   "metadata": {},
   "outputs": [],
   "source": []
  },
  {
   "cell_type": "markdown",
   "metadata": {},
   "source": [
    "We'll have a quick look with some very basic plotting commands."
   ]
  },
  {
   "cell_type": "code",
   "execution_count": 3,
   "metadata": {},
   "outputs": [
    {
     "data": {
      "image/png": "[encoded data removed]",
      "text/plain": [
       "<Figure size 432x288 with 1 Axes>"
      ]
     },
     "metadata": {
      "needs_background": "light"
     },
     "output_type": "display_data"
    }
   ],
   "source": [
    "plt.imshow(model, cmap='viridis', aspect=0.2)\n",
    "plt.xlabel('Length (m)', fontsize=12)\n",
    "plt.ylabel('Depth (m)', fontsize=12)\n",
    "\n",
    "# plt.savefig('synth_1.png',dpi=400)\n",
    "plt.show()"
   ]
  },
  {
   "cell_type": "markdown",
   "metadata": {},
   "source": [
    "Now we can make some Vp-rho pairs (rock 0, rock 1, rock 2) and select from those with `np.take`. This works like `vlookup` in Excel --- it says \"read this array, `model` in this case, in which the values *i* are like 0, 1, ... n, and give me the *i*th element from this other array, `rocks` in this case."
   ]
  },
  {
   "cell_type": "code",
   "execution_count": 4,
   "metadata": {},
   "outputs": [],
   "source": [
    "rocks = np.array([[2700, 2750],  # Vp, rho\n",
    "                  [2300, 2350],\n",
    "                  [2700, 2750],\n",
    "                  [2800, 3000]])"
   ]
  },
  {
   "cell_type": "markdown",
   "metadata": {},
   "source": [
    "**Edit:** I was using `np.take` here, but ['fancy indexing'](http://docs.scipy.org/doc/numpy/user/basics.indexing.html) is shorter and more intuitive. We are just going to index `rocks` using the integers in `model`. That is, if `model` has a `1`, we take the second element, `[2400, 2450]`, from `rocks`. We'll end up with an array containing the rocks corresponding to each element of `earth`."
   ]
  },
  {
   "cell_type": "code",
   "execution_count": 5,
   "metadata": {},
   "outputs": [
    {
     "data": {
      "text/plain": [
       "array([[2700, 2750],\n",
       "       [2300, 2350],\n",
       "       [2700, 2750],\n",
       "       [2800, 3000]])"
      ]
     },
     "execution_count": 5,
     "metadata": {},
     "output_type": "execute_result"
    }
   ],
   "source": [
    "rocks"
   ]
  },
  {
   "cell_type": "code",
   "execution_count": 6,
   "metadata": {},
   "outputs": [],
   "source": [
    "earth = rocks[model]"
   ]
  },
  {
   "cell_type": "markdown",
   "metadata": {},
   "source": [
    "Now apply `np.product` to those Vp-rho pairs to get impedance at every sample.\n",
    "\n",
    "This might look a bit magical, but we're just telling Python to apply the function `product()` to every set of numbers it encounters on the last axis (index `-1`). The array `earth` has shape (100, 40, 2), so you can think of it as a 100 row x 40 column 'section' in which each 'sample' is occupied by a Vp-rho pair. That pair is in the last axis. So product, which just takes a bunch of numbers and multiplies them, will return the impedance (the product of Vp and rho) at each sample location. We'll end up with a new 100 x 40 'section' with impedance at every sample."
   ]
  },
  {
   "cell_type": "code",
   "execution_count": 7,
   "metadata": {},
   "outputs": [
    {
     "data": {
      "text/plain": [
       "array([[[2700, 2750],\n",
       "        [2700, 2750],\n",
       "        [2700, 2750],\n",
       "        ...,\n",
       "        [2700, 2750],\n",
       "        [2700, 2750],\n",
       "        [2700, 2750]],\n",
       "\n",
       "       [[2700, 2750],\n",
       "        [2700, 2750],\n",
       "        [2700, 2750],\n",
       "        ...,\n",
       "        [2700, 2750],\n",
       "        [2700, 2750],\n",
       "        [2700, 2750]],\n",
       "\n",
       "       [[2700, 2750],\n",
       "        [2700, 2750],\n",
       "        [2700, 2750],\n",
       "        ...,\n",
       "        [2700, 2750],\n",
       "        [2700, 2750],\n",
       "        [2700, 2750]],\n",
       "\n",
       "       ...,\n",
       "\n",
       "       [[2800, 3000],\n",
       "        [2800, 3000],\n",
       "        [2800, 3000],\n",
       "        ...,\n",
       "        [2800, 3000],\n",
       "        [2800, 3000],\n",
       "        [2800, 3000]],\n",
       "\n",
       "       [[2800, 3000],\n",
       "        [2800, 3000],\n",
       "        [2800, 3000],\n",
       "        ...,\n",
       "        [2800, 3000],\n",
       "        [2800, 3000],\n",
       "        [2800, 3000]],\n",
       "\n",
       "       [[2800, 3000],\n",
       "        [2800, 3000],\n",
       "        [2800, 3000],\n",
       "        ...,\n",
       "        [2800, 3000],\n",
       "        [2800, 3000],\n",
       "        [2800, 3000]]])"
      ]
     },
     "execution_count": 7,
     "metadata": {},
     "output_type": "execute_result"
    }
   ],
   "source": [
    "earth"
   ]
  },
  {
   "cell_type": "code",
   "execution_count": 8,
   "metadata": {},
   "outputs": [],
   "source": [
    "imp = np.apply_along_axis(np.product, -1, earth)"
   ]
  },
  {
   "cell_type": "code",
   "execution_count": 9,
   "metadata": {},
   "outputs": [
    {
     "data": {
      "text/plain": [
       "array([[7425000, 7425000, 7425000, ..., 7425000, 7425000, 7425000],\n",
       "       [7425000, 7425000, 7425000, ..., 7425000, 7425000, 7425000],\n",
       "       [7425000, 7425000, 7425000, ..., 7425000, 7425000, 7425000],\n",
       "       ...,\n",
       "       [8400000, 8400000, 8400000, ..., 8400000, 8400000, 8400000],\n",
       "       [8400000, 8400000, 8400000, ..., 8400000, 8400000, 8400000],\n",
       "       [8400000, 8400000, 8400000, ..., 8400000, 8400000, 8400000]])"
      ]
     },
     "execution_count": 9,
     "metadata": {},
     "output_type": "execute_result"
    }
   ],
   "source": [
    "imp"
   ]
  },
  {
   "cell_type": "markdown",
   "metadata": {},
   "source": [
    "We could have saved a step by taking from `np.product(rocks, axis=1)` but I like the elegance of having an earth model with a set of rock properties at each sample location. That's how I think about the earth --- and it's similar to the concept of a geocellular model."
   ]
  },
  {
   "cell_type": "markdown",
   "metadata": {},
   "source": [
    "## Model seismic reflections\n",
    "\n",
    "Now we have an earth model — giving us acoustic impedance everywhere in this 2D grid — we define a function to compute reflection coefficients for every trace.\n",
    "\n",
    "I love this indexing trick though I admit it looks weird the first time you see it. It's easier to appreciate for a 1D array. Let's look at the differences:\n",
    "\n",
    "    >>> a = np.array([1,1,1,2,2,2,3,3,3])\n",
    "    >>> a[1:] - a[:-1]\n",
    "    array([0, 0, 1, 0, 0, 1, 0, 0])\n",
    "\n",
    "This is equivalent to:\n",
    "\n",
    "    >>> np.diff(a, axis=0)\n",
    "    \n",
    "But I prefer to spell it out so it's analogous to the sum on the denominator."
   ]
  },
  {
   "cell_type": "code",
   "execution_count": 120,
   "metadata": {},
   "outputs": [
    {
     "data": {
      "image/png": "[encoded data removed]",
      "text/plain": [
       "<Figure size 432x288 with 1 Axes>"
      ]
     },
     "metadata": {
      "needs_background": "light"
     },
     "output_type": "display_data"
    }
   ],
   "source": [
    "rc =  (imp[1:,:] - imp[:-1,:]) / (imp[1:,:] + imp[:-1,:])\n",
    "\n",
    "plt.imshow(rc, cmap='Greys', aspect=0.2)\n",
    "plt.xlabel('Length (m)', fontsize=12)\n",
    "plt.ylabel('Depth (m)', fontsize=12)\n",
    "\n",
    "plt.savefig('synth_2.png',dpi=400)\n",
    "plt.show()"
   ]
  },
  {
   "cell_type": "markdown",
   "metadata": {},
   "source": [
    "We'll use a wavelet function from [`bruges`](https://github.com/agile-geoscience/bruges). This is not cheating! Well, I don't think it is... we could use `scipy.signal.ricker` but I can't figure out how to convert frequency into the 'width' parameter that function wants. Using the Ricker from `bruges` keeps things a bit simpler."
   ]
  },
  {
   "cell_type": "code",
   "execution_count": 105,
   "metadata": {},
   "outputs": [],
   "source": [
    "import bruges\n",
    "\n",
    "w = bruges.filters.ricker(duration=0.100, dt=0.001, f=60)"
   ]
  },
  {
   "cell_type": "markdown",
   "metadata": {},
   "source": [
    "Let's make sure it looks OK:"
   ]
  },
  {
   "cell_type": "code",
   "execution_count": 106,
   "metadata": {},
   "outputs": [
    {
     "data": {
      "image/png": "[encoded data removed]",
      "text/plain": [
       "<Figure size 432x288 with 1 Axes>"
      ]
     },
     "metadata": {
      "needs_background": "light"
     },
     "output_type": "display_data"
    }
   ],
   "source": [
    "plt.plot(w)\n",
    "plt.show()"
   ]
  },
  {
   "cell_type": "markdown",
   "metadata": {},
   "source": [
    "Now one more application of `apply_along_axis`. We could use a loop to step over the traces, but the rule of thumb in Python is \"if you are using a loop, you're doing it wrong.\". So, we'll use `apply_along_axis`.\n",
    "\n",
    "It looks a bit more complicated this time, because we can't just pass a function like we did with `product` before. We want to pass in some more things, not just the trace that `apply_along_axis` is going to send it. So we use Python's 'unnamed function creator', `lambda` (in keeping with all things called `lambda`, it's a bad name that no-one can quite explain)."
   ]
  },
  {
   "cell_type": "code",
   "execution_count": 107,
   "metadata": {
    "scrolled": true
   },
   "outputs": [
    {
     "data": {
      "image/png": "[encoded data removed]",
      "text/plain": [
       "<Figure size 432x288 with 1 Axes>"
      ]
     },
     "metadata": {
      "needs_background": "light"
     },
     "output_type": "display_data"
    }
   ],
   "source": [
    "synth = np.apply_along_axis(lambda t: np.convolve(t, w, mode='same'),\n",
    "                            axis=0,\n",
    "                            arr=rc)\n",
    "\n",
    "plt.imshow(synth, cmap=\"RdBu\", aspect=0.2)\n",
    "plt.xlabel('Length (m)', fontsize=12)\n",
    "plt.ylabel('Depth (m)', fontsize=12)\n",
    "\n",
    "plt.savefig('synth_60.png',dpi=400)\n",
    "plt.show()\n"
   ]
  },
  {
   "cell_type": "markdown",
   "metadata": {
    "collapsed": true
   },
   "source": [
    "That's it! And it only needed 9 lines of Python! Not incldung boring old imports and plotting stuff.\n",
    "\n",
    "Here they are so you can count them:"
   ]
  },
  {
   "cell_type": "code",
   "execution_count": 11,
   "metadata": {},
   "outputs": [],
   "source": [
    "length, depth = 40, 100\n",
    "model = 1 + np.tri(depth, length, -depth//3)\n",
    "model[:depth//3,:] = 0\n",
    "rocks = np.array([[2700, 2750], [2400, 2450], [2800, 3000]])\n",
    "earth = np.take(rocks, model.astype(int), axis=0)\n",
    "imp = np.apply_along_axis(np.product, -1, earth)\n",
    "rc =  (imp[1:,:] - imp[:-1,:]) / (imp[1:,:] + imp[:-1,:])\n",
    "w = bruges.filters.ricker(duration=0.100, dt=0.001, f=40)\n",
    "synth = np.apply_along_axis(lambda t: np.convolve(t, w, mode='same'), axis=0, arr=rc)"
   ]
  },
  {
   "cell_type": "code",
   "execution_count": null,
   "metadata": {},
   "outputs": [],
   "source": []
  },
  {
   "cell_type": "markdown",
   "metadata": {},
   "source": [
    "<hr />\n",
    "\n",
    "<div>\n",
    "<img src=\"https://avatars1.githubusercontent.com/u/1692321?s=50\"><p style=\"text-align:center\">© Agile Geoscience 2016</p>\n",
    "</div>"
   ]
  }
 ],
 "metadata": {
  "anaconda-cloud": {},
  "kernelspec": {
   "display_name": "Python 3",
   "language": "python",
   "name": "python3"
  },
  "language_info": {
   "codemirror_mode": {
    "name": "ipython",
    "version": 3
   },
   "file_extension": ".py",
   "mimetype": "text/x-python",
   "name": "python",
   "nbconvert_exporter": "python",
   "pygments_lexer": "ipython3",
   "version": "3.7.8"
  }
 },
 "nbformat": 4,
 "nbformat_minor": 1
}
